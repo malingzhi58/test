{
 "cells": [
  {
   "cell_type": "markdown",
   "metadata": {
    "id": "csveUgjYHbMf"
   },
   "source": [
    "# Homework 3"
   ]
  },
  {
   "cell_type": "markdown",
   "metadata": {
    "id": "o5oV3mBjHbMf"
   },
   "source": [
    "Your name:lingzhi ma\n",
    "\n",
    "Your Andrew ID:lingzhim\n",
    "\n",
    "Collaborators (if none, say \\\"none\\\"; do *not* leave this blank): none"
   ]
  },
  {
   "cell_type": "markdown",
   "metadata": {
    "id": "5YMdRDRCHbMf"
   },
   "source": [
    "# Part 1: Email spam classification [30 points]"
   ]
  },
  {
   "cell_type": "markdown",
   "metadata": {
    "id": "1qqQhX2cHbMf"
   },
   "source": [
    "   - Get the data from: http://www.andrew.cmu.edu/user/georgech/preprocessed-enron-email-dataset.zip\n",
    "   - Unzip this into the same folder as this notebook, rename it to `email-data`\n",
    "   - The folder contains 3 subfolders:\n",
    "      - `ham` contains ham emails.\n",
    "      - `spam` contains spam emails.\n",
    "      - `testing` is a folder containing test emails for your classifier. The ham/spam label is in the filename.\n",
    "      \n",
    "**Important**: For this problem, do *not* use neural nets/deep nets."
   ]
  },
  {
   "cell_type": "markdown",
   "metadata": {
    "id": "ChUJWZIuHbMf"
   },
   "source": [
    "**(a) Print the number of ham and spam emails [1 point]**\n",
    "\n",
    "In addition to providing the code, respond to the following questions:\n",
    "\n",
    "   - Is this dataset imbalanced? Will this be problematic in training the model?\n",
    "   - If so, how would you address it? (You do *not* have to implement what you suggest here for later parts of the problem.)"
   ]
  },
  {
   "cell_type": "code",
   "execution_count": 71,
   "metadata": {
    "id": "FjCiyIsWHbMg",
    "outputId": "a2d9e3b9-1c71-4a92-ae2a-a9856a83ca07"
   },
   "outputs": [
    {
     "name": "stdout",
     "output_type": "stream",
     "text": [
      "the number of ham emails 1500 \n",
      "the number of spam emails 3671\n"
     ]
    }
   ],
   "source": [
    "#your code here\n",
    "import glob\n",
    "ham_list = glob.glob('./email-data/ham/*.txt')\n",
    "spam_list = glob.glob('./email-data/spam/*.txt')\n",
    "test_list = glob.glob('./email-data/testing/*.txt')\n",
    "\n",
    "# docs = []\n",
    "# for each in file_list:\n",
    "#     docs.append(make_word_list(each))\n",
    "print(f'the number of ham emails {len(ham_list)} \\nthe number of spam emails {len(spam_list)}')"
   ]
  },
  {
   "cell_type": "markdown",
   "metadata": {
    "id": "pZghVWlcHbMi"
   },
   "source": [
    "**Your answers to the above questions:**\n",
    "\n",
    "The dataset is not balanced. While training, spam emails will have more weights, because we will update spam weights more times than ham emails.\n",
    "\n",
    "I can regularize the Loss function while modeling and add penalty to the weights."
   ]
  },
  {
   "cell_type": "markdown",
   "metadata": {
    "id": "dGGZsLowHbMi"
   },
   "source": [
    "**(b) Construct the documents [4 points]**\n",
    " \n",
    "   - Provided below is a function that returns a document present in a file given a fileName.\n",
    "   - The function performs some preprocessing to (1) remove punctuation, (2),(3) remove whitespace and (4) lowercase all words.\n",
    "   - Use this function to construct a list of documents.\n",
    "   - Also construct a list of document labels containing `1` for spam and `0` for ham."
   ]
  },
  {
   "cell_type": "code",
   "execution_count": 72,
   "metadata": {
    "id": "u5WC-e-CHbMj"
   },
   "outputs": [],
   "source": [
    "import re\n",
    "import string\n",
    "import codecs\n",
    "\n",
    "def makeWordList(path):\n",
    "    \n",
    "    with codecs.open(path, \"r\", encoding='utf-8', errors='ignore') as f:\n",
    "        corpus_text = f.read()\n",
    "\n",
    "    for c in string.punctuation:\n",
    "        corpus_text = corpus_text.replace(c, \"\")  # -- (1)\n",
    "    \n",
    "    text = re.sub(r'\\S*\\d\\S*','',corpus_text) # -- (2)\n",
    "    text = re.sub(r'[^\\w\\s]','',text)         # -- (3)\n",
    "    \n",
    "    text = text.lower().split()           # -- (4)         \n",
    "    \n",
    "    li = []\n",
    "    for token in text:\n",
    "        li.append(token)\n",
    "\n",
    "    return \" \".join(li)"
   ]
  },
  {
   "cell_type": "code",
   "execution_count": 73,
   "metadata": {
    "id": "IP5iEcQXHbMj"
   },
   "outputs": [],
   "source": [
    "#your code here\n",
    "train_doc =[]\n",
    "for i in ham_list:\n",
    "    train_doc.append(makeWordList(i))\n",
    "for i in spam_list:\n",
    "    train_doc.append(makeWordList(i))\n",
    "label_list =[]\n",
    "for i in ham_list:\n",
    "    label_list.append(0)\n",
    "for i in spam_list:\n",
    "    label_list.append(1)\n"
   ]
  },
  {
   "cell_type": "code",
   "execution_count": 74,
   "metadata": {
    "id": "DNZ1eak6HbMj"
   },
   "outputs": [],
   "source": [
    "test_doc=[]\n",
    "test_label=[]\n",
    "for i in test_list:\n",
    "    test_doc.append(makeWordList(i))\n",
    "    if 'ham' in i:\n",
    "        test_label.append(0)\n",
    "    else:\n",
    "        test_label.append(1)"
   ]
  },
  {
   "cell_type": "code",
   "execution_count": 75,
   "metadata": {
    "id": "WmC6m0D3HbMj",
    "outputId": "74daeedd-92ec-449e-8930-8f4b1bed5ae0"
   },
   "outputs": [
    {
     "data": {
      "text/plain": [
       "5171"
      ]
     },
     "execution_count": 75,
     "metadata": {},
     "output_type": "execute_result"
    }
   ],
   "source": [
    "len(train_doc)"
   ]
  },
  {
   "cell_type": "markdown",
   "metadata": {
    "id": "DjFE6BGTHbMj"
   },
   "source": [
    "**(c) Construct the document matrix `X` as a matrix of word frequencies [5 points]**\n",
    "\n",
    "   - Use the `CountVectorizer` from scikit-learn.\n",
    "   - Set `min_df=50`; this drops words that don't occur in at least 50 documents.\n",
    "   - Set `stop_words=\"english\"` and `max_df=0.8` to filter out stop-words.\n",
    "   - Print the size of the vocabulary (number of unique words)"
   ]
  },
  {
   "cell_type": "code",
   "execution_count": 76,
   "metadata": {
    "id": "bf0NN74fHbMj"
   },
   "outputs": [],
   "source": [
    "#your code here\n",
    "from sklearn.feature_extraction.text import CountVectorizer\n",
    "countvec = CountVectorizer(min_df=50,max_df=0.8,stop_words='english')\n",
    "countvec_res=countvec.fit_transform(train_doc)"
   ]
  },
  {
   "cell_type": "code",
   "execution_count": 77,
   "metadata": {
    "id": "zeTgK2lbHbMj"
   },
   "outputs": [],
   "source": [
    "count_test=countvec.transform(test_doc)"
   ]
  },
  {
   "cell_type": "code",
   "execution_count": 78,
   "metadata": {
    "id": "HOQ4ryT_HbMj",
    "outputId": "8c20054a-9503-4b84-d0ac-725bcef2fa2e"
   },
   "outputs": [
    {
     "data": {
      "text/plain": [
       "1680"
      ]
     },
     "execution_count": 78,
     "metadata": {},
     "output_type": "execute_result"
    }
   ],
   "source": [
    "len(countvec.vocabulary_)"
   ]
  },
  {
   "cell_type": "code",
   "execution_count": 79,
   "metadata": {
    "id": "OsFWIv-CHbMk",
    "outputId": "979435f8-1782-409d-a673-762a4d332265"
   },
   "outputs": [
    {
     "data": {
      "text/plain": [
       "(5171, 1680)"
      ]
     },
     "execution_count": 79,
     "metadata": {},
     "output_type": "execute_result"
    }
   ],
   "source": [
    "countvec_res.shape"
   ]
  },
  {
   "cell_type": "markdown",
   "metadata": {
    "id": "3Z-kQlamHbMk"
   },
   "source": [
    "**(d) k-NN and random forest: Hyperparameter selection [10 points]**\n",
    "\n",
    "Now that you have your documents and labels as training data, you can perform 5-fold cross-validation to select the hyperparameters for different learning algorithms.\n",
    "\n",
    "The hyperparameter with the best performance averaged across 5 folds is chosen. Use the **weighted F1-score** as the evaluation metric (i.e., for the `f1_score` function imported from `sklearn.metrics`, be sure to use the parameter `average='weighted'`).\n",
    "\n",
    "   - k-NN: Select `k` from a range of values of your choice.\n",
    "   - Random forest: Select `max_features` **and** `min_samples_leaf` from a grid of your choice.\n",
    "\n",
    "Store each chosen hyperparameter as `best_k`, `best_max_features`, and `best_min_samples_leaf` respectively.\n",
    "\n",
    "Provided is some seed code for cross-validation that you may modify and reuse. Do not use the cross-validations score or grid-search functions from scikit-learn (you may use `KFold`)."
   ]
  },
  {
   "cell_type": "code",
   "execution_count": 80,
   "metadata": {
    "id": "g9MVhPzPHbMk",
    "outputId": "6ba0d4ac-1909-48b8-e6fc-1dbc43b50fb4",
    "scrolled": true
   },
   "outputs": [
    {
     "name": "stdout",
     "output_type": "stream",
     "text": [
      "0.9116550099460824\n",
      "0.905302480656107\n",
      "0.9078724676815162\n",
      "0.8889327572741681\n",
      "0.8698519950905432\n",
      "0.8485583193049783\n",
      "0.8187832399512113\n",
      "0.790776197158829\n",
      "0.7552988230201515\n",
      "0.7030510724373285\n",
      "Best hyperparameter setting for kNN: 1\n"
     ]
    }
   ],
   "source": [
    "from sklearn.model_selection import KFold\n",
    "from sklearn.metrics import f1_score\n",
    "import numpy as np\n",
    "from sklearn.neighbors import KNeighborsClassifier\n",
    "\n",
    "num_folds = 5\n",
    "k_fold = KFold(num_folds)\n",
    "hyperparameter_settings = 2**np.arange(0, 10)  # fill this with hyperparameter settings that you want to try\n",
    "\n",
    "best_hyperparam_setting = None\n",
    "best_cross_val_score = -np.inf  # assumes that a higher score is better\n",
    "\n",
    "label=np.array(label_list)\n",
    "train=countvec_res.toarray()\n",
    "# print(train.shape)\n",
    "# print(hyperparameter_settings)\n",
    "\n",
    "for hyperparam_setting in hyperparameter_settings:\n",
    "    fold_scores = []\n",
    "    # your code to train and score the training data here\n",
    "    for train_index,val_index in k_fold.split(train):\n",
    "#         print(train_index,val_index)\n",
    "        proper_train_features = train[train_index]\n",
    "        proper_train_labels = label[train_index]\n",
    "        val_features = train[val_index]\n",
    "        val_labels = label[val_index]\n",
    "        \n",
    "        classifier = KNeighborsClassifier(n_neighbors=hyperparam_setting)\n",
    "#         print(hyperparam_setting)\n",
    "        \n",
    "#         print(proper_train_features.shape, proper_train_labels.shape)\n",
    "        \n",
    "        classifier.fit(proper_train_features, proper_train_labels)\n",
    "#         print(val_features)\n",
    "        predicted_val_labels = classifier.predict(val_features)\n",
    "        \n",
    "        fold_scores.append(f1_score(val_labels,predicted_val_labels,average='weighted'))\n",
    "    \n",
    "    cross_val_score = np.mean(fold_scores)\n",
    "    print(cross_val_score)\n",
    "    if cross_val_score > best_cross_val_score:  # assumes that a higher score is better\n",
    "        best_cross_val_score = cross_val_score\n",
    "        best_hyperparam_setting = hyperparam_setting\n",
    "\n",
    "print('Best hyperparameter setting for kNN:', best_hyperparam_setting)"
   ]
  },
  {
   "cell_type": "code",
   "execution_count": 81,
   "metadata": {
    "id": "qPuQGCb0HbMk",
    "outputId": "6e825278-28ea-4681-f2fc-83f2247ea19e"
   },
   "outputs": [
    {
     "data": {
      "text/plain": [
       "[(11, 1),\n",
       " (11, 2),\n",
       " (11, 4),\n",
       " (11, 8),\n",
       " (11, 16),\n",
       " (41, 1),\n",
       " (41, 2),\n",
       " (41, 4),\n",
       " (41, 8),\n",
       " (41, 16),\n",
       " (164, 1),\n",
       " (164, 2),\n",
       " (164, 4),\n",
       " (164, 8),\n",
       " (164, 16)]"
      ]
     },
     "execution_count": 81,
     "metadata": {},
     "output_type": "execute_result"
    }
   ],
   "source": [
    "num_features = train.shape[1]\n",
    "hyperparameter_settings = [(max_features, min_samples_leaf)\n",
    "                           for max_features in [int(np.ceil(np.sqrt(num_features) / 4)),\n",
    "                                                int(np.ceil(np.sqrt(num_features))),\n",
    "                                                int(np.ceil(np.sqrt(num_features) * 4))]\n",
    "                           for min_samples_leaf in [1, 2, 4, 8, 16]]\n",
    "hyperparameter_settings"
   ]
  },
  {
   "cell_type": "code",
   "execution_count": 82,
   "metadata": {
    "id": "2uFyMC8qHbMk",
    "outputId": "da6c5f61-1cdb-4af8-f0c2-861329b319b6"
   },
   "outputs": [
    {
     "data": {
      "text/plain": [
       "1680"
      ]
     },
     "execution_count": 82,
     "metadata": {},
     "output_type": "execute_result"
    }
   ],
   "source": [
    "num_features"
   ]
  },
  {
   "cell_type": "code",
   "execution_count": 83,
   "metadata": {
    "id": "CT0Tl8TLHbMl",
    "outputId": "21f741b2-8980-4688-d1cf-bd5fc74bf48a"
   },
   "outputs": [
    {
     "name": "stdout",
     "output_type": "stream",
     "text": [
      "0.9787062234202384\n",
      "0.9561435780435057\n",
      "0.9363927614212437\n",
      "0.9065827040407901\n",
      "0.8624695371964188\n",
      "0.978112011731153\n",
      "0.973179626574072\n",
      "0.9637611152192506\n",
      "0.9514141076925607\n",
      "0.9266832260181858\n",
      "0.9684318258466081\n",
      "0.9703563235518585\n",
      "0.9671386109322985\n",
      "0.9578505234469823\n",
      "0.9471582038211442\n",
      "Best hyperparameter setting for RF: (11, 1)\n"
     ]
    }
   ],
   "source": [
    "from sklearn.model_selection import KFold\n",
    "from sklearn.metrics import f1_score\n",
    "import numpy as np\n",
    "from sklearn.neighbors import KNeighborsClassifier\n",
    "from sklearn.ensemble import RandomForestClassifier\n",
    "\n",
    "num_folds = 5\n",
    "k_fold = KFold(num_folds)\n",
    "num_features = train.shape[1]\n",
    "hyperparameter_settings = [(max_features, min_samples_leaf)\n",
    "                           for max_features in [int(np.ceil(np.sqrt(num_features) / 4)),\n",
    "                                                int(np.ceil(np.sqrt(num_features))),\n",
    "                                                int(np.ceil(np.sqrt(num_features) * 4))]\n",
    "                           for min_samples_leaf in [1, 2, 4, 8, 16]]\n",
    "# fill this with hyperparameter settings that you want to try\n",
    "\n",
    "best_hyperparam_setting = None\n",
    "best_cross_val_score = -np.inf  # assumes that a higher score is better\n",
    "\n",
    "label=np.array(label_list)\n",
    "train=countvec_res.toarray()\n",
    "\n",
    "for hyperparam_setting in hyperparameter_settings:\n",
    "    max_features, min_samples_leaf = hyperparam_setting\n",
    "    fold_scores = []\n",
    "    # your code to train and score the training data here\n",
    "    for train_index,val_index in k_fold.split(train):\n",
    "        proper_train_features = train[train_index]\n",
    "        proper_train_labels = label[train_index]\n",
    "        val_features = train[val_index]\n",
    "        val_labels = label[val_index]\n",
    "        \n",
    "        classifier = RandomForestClassifier(max_features=max_features,\n",
    "                                            min_samples_leaf=min_samples_leaf,\n",
    "                                            random_state=0)\n",
    "        \n",
    "        classifier.fit(proper_train_features, proper_train_labels)\n",
    "        predicted_val_labels = classifier.predict(val_features)\n",
    "        \n",
    "        fold_scores.append(f1_score(val_labels,predicted_val_labels,average='weighted'))\n",
    "    \n",
    "    cross_val_score = np.mean(fold_scores)\n",
    "    print(cross_val_score)\n",
    "    if cross_val_score > best_cross_val_score:  # assumes that a higher score is better\n",
    "        best_cross_val_score = cross_val_score\n",
    "        best_hyperparam_setting = hyperparam_setting\n",
    "\n",
    "print('Best hyperparameter setting for RF:', best_hyperparam_setting)"
   ]
  },
  {
   "cell_type": "markdown",
   "metadata": {
    "id": "cVtqvW6FHbMl"
   },
   "source": [
    "**(e) Classifier testing: Precision-Recall and ROC curves [10 points]**\n",
    "\n",
    "   - Use the best hyperparameters for each classifier from the previous question to **train** your classifiers on the full training data.\n",
    "   - Use test emails in the `testing` folder to **test** your classifiers and construct the plots below.\n",
    "\n",
    "Things to plot:\n",
    "\n",
    "   - Construct one plot containing 2 ROC curves, one for each classifier. (We vary the threshold probability of declaring an email to be spam to obtain these plots.)\n",
    "   - In the legend of this plot, display the AUC for each classifier.\n",
    "   - Construct one plot containing 2 precision-recall curves, one for each classifier.\n",
    "   - In the legend of each plot, display the average precision for each classifier using the sklearn function [`average_precision_score`](https://scikit-learn.org/stable/modules/generated/sklearn.metrics.average_precision_score.html#sklearn.metrics.average_precision_score); average precision is essentially an approximation of the area under the precision-recall curve that avoids being overly optimistic.\n",
    "\n",
    "Note that these plots are on the test data: you will have to read in this data, construct a document matrix and labels. Some words in the test data may not have been present in the training data: there are multiple ways to address this, briefly describe your approach.\n",
    "\n",
    "Things to answer:\n",
    "\n",
    "   - Of the ROC and Precision-Recall curves, which one would you use for this task and why?\n",
    "   - Which classifier is the best, according to your chosen curves?"
   ]
  },
  {
   "cell_type": "code",
   "execution_count": 84,
   "metadata": {
    "id": "tEevT0LBHbMl"
   },
   "outputs": [],
   "source": [
    "#your code here\n",
    "from sklearn.metrics import roc_curve, average_precision_score, roc_auc_score, precision_recall_curve\n",
    "\n",
    "max_features=11\n",
    "min_samples_leaf=1\n",
    "rfclassifier = RandomForestClassifier(max_features=max_features,min_samples_leaf=min_samples_leaf,random_state=0)\n",
    "rfclassifier.fit(train, label)\n",
    "rfpredicted_val_labels = classifier.predict_proba(count_test)\n",
    "\n"
   ]
  },
  {
   "cell_type": "code",
   "execution_count": 85,
   "metadata": {
    "id": "NlecRyCKHbMl"
   },
   "outputs": [],
   "source": [
    "knnclassifier = KNeighborsClassifier(n_neighbors=1)\n",
    "knnclassifier.fit(train, label)\n",
    "knnpredicted_val_labels = knnclassifier.predict_proba(count_test.toarray())"
   ]
  },
  {
   "cell_type": "code",
   "execution_count": 86,
   "metadata": {
    "id": "qOzRpz15HbMl",
    "scrolled": true
   },
   "outputs": [],
   "source": [
    "\n",
    "rfrocfpr,rfroctpr,rfrocth=roc_curve(test_label, rfpredicted_val_labels[:,1])\n",
    "rfavg_pre=average_precision_score(test_label, rfpredicted_val_labels[:,1])\n",
    "rfauc=roc_auc_score(test_label, rfpredicted_val_labels[:,1])\n",
    "rfprecision, rfrecall, rfpreth = precision_recall_curve(test_label, rfpredicted_val_labels[:,1])\n",
    "\n",
    "knnrocfpr,knnroctpr,knnrocth=roc_curve(test_label, knnpredicted_val_labels[:,1])\n",
    "knnavg_pre=average_precision_score(test_label, knnpredicted_val_labels[:,1])\n",
    "knnauc=roc_auc_score(test_label, knnpredicted_val_labels[:,1])\n",
    "knnprecision,knnrecall, knnpreth = precision_recall_curve(test_label, knnpredicted_val_labels[:,1])"
   ]
  },
  {
   "cell_type": "code",
   "execution_count": 87,
   "metadata": {
    "id": "uuLH39h2HbMl",
    "outputId": "4e53a534-8504-4221-d83a-ffa4a3919f64",
    "scrolled": false
   },
   "outputs": [
    {
     "data": {
      "text/plain": [
       "<matplotlib.legend.Legend at 0x1c554b57400>"
      ]
     },
     "execution_count": 87,
     "metadata": {},
     "output_type": "execute_result"
    },
    {
     "data": {
      "image/png": "[encoded data removed]",
      "text/plain": [
       "<Figure size 432x288 with 1 Axes>"
      ]
     },
     "metadata": {
      "needs_background": "light"
     },
     "output_type": "display_data"
    }
   ],
   "source": [
    "import matplotlib.pyplot as plt\n",
    "plt.plot(rfrocfpr,rfroctpr,label=f'rf auc= {rfauc:.2f}')\n",
    "plt.plot(knnrocfpr,knnroctpr,label=f'knn auc= {knnauc:.2f}')\n",
    "plt.xlabel('FPR')\n",
    "plt.ylabel('TPR')\n",
    "plt.title('ROC curve')\n",
    "plt.legend()"
   ]
  },
  {
   "cell_type": "code",
   "execution_count": null,
   "metadata": {
    "id": "MSyRjdd2HbMl",
    "outputId": "a955540b-62cf-4206-ddc3-77572dd4206f"
   },
   "outputs": [
    {
     "data": {
      "text/plain": [
       "<matplotlib.legend.Legend at 0x12d81f181d0>"
      ]
     },
     "execution_count": 99,
     "metadata": {
      "tags": []
     },
     "output_type": "execute_result"
    },
    {
     "data": {
      "image/png": "[encoded data removed]",
      "text/plain": [
       "<Figure size 432x288 with 1 Axes>"
      ]
     },
     "metadata": {
      "needs_background": "light",
      "tags": []
     },
     "output_type": "display_data"
    }
   ],
   "source": [
    "\n",
    "plt.plot(rfrecall,rfprecision,label=f'rf auc= {rfauc:.2f}')\n",
    "plt.plot(knnrecall,knnprecision,label=f'knn auc= {knnauc:.2f}')\n",
    "plt.xlabel('Recall')\n",
    "plt.ylabel('precision')\n",
    "plt.title('Precision-recall curve')\n",
    "plt.legend()"
   ]
  },
  {
   "cell_type": "markdown",
   "metadata": {
    "id": "DJgPIEdUHbMm"
   },
   "source": [
    "**Your answers to the above questions:**\n",
    "\n",
    "ROC is suitable for balanced datasets and PR curve is suitable for imbalanced curves. The ham-spam ratio in this dataset is 0.3, which is imbalanced. So using PR curve is better. Random forest is better, because it has higher AUC."
   ]
  },
  {
   "cell_type": "markdown",
   "metadata": {
    "id": "X6WmfRSuHbMm"
   },
   "source": [
    "# Part 2: Representation Learning [40 points]\n",
    "\n",
    "Before getting started, please put the attached file `pretrained_convnet.pt` in the same directory as this notebook.\n",
    "\n",
    "Recall from lecture the \"crumpled paper analogy\": in a neural net, as you progress through the layers from input to output, the layers should be \"unfolding the original space\" to disentangle the classes. When you get to the layer before the classifier, you should've changed the data representation into something that makes classification easy. **We will refer to the layer before the classifier in the neural net as the bottleneck layer.**\n",
    "\n",
    "In this problem, you will be using an output of a bottleneck layer from pre-trained CNN as input features for a few simple classifiers. The CNN provided was trained with the Fashion MNIST dataset which consists of 10 classes of 28x28 grayscale images; this dataset is very similar to MNIST in that there are 10 classes with images that are the same size as MNIST and in fact even the training and test set sizes are the same (60,000 and 10,000 respectively). However, the classes are not the digits 0 through 9. Instead the classes are:\n",
    "\n",
    "| Class | Description |\n",
    "| ----- | :---------: |\n",
    "| 0     | T-shirt/top |\n",
    "| 1     | Trouser     |\n",
    "| 2     | Pullover    |\n",
    "| 3     | Dress       |\n",
    "| 4     | Coat        |\n",
    "| 5     | Sandal      |\n",
    "| 6     | Shirt       |\n",
    "| 7     | Sneaker     |\n",
    "| 8     | Bag         |\n",
    "| 9     | Ankle boot  |"
   ]
  },
  {
   "cell_type": "markdown",
   "metadata": {
    "id": "a27ssgoPHbMm"
   },
   "source": [
    "Let's start with some imports."
   ]
  },
  {
   "cell_type": "code",
   "execution_count": 6,
   "metadata": {
    "id": "KvwKH_T-HbMm"
   },
   "outputs": [],
   "source": [
    "%matplotlib inline\n",
    "import matplotlib.pyplot as plt\n",
    "import numpy as np\n",
    "\n",
    "import torch\n",
    "import torch.nn as nn\n",
    "import torchvision\n",
    "import torchvision.transforms as transforms\n",
    "from torchsummaryX import summary\n",
    "\n",
    "from UDA_pytorch_utils import UDA_pytorch_classifier_fit, \\\n",
    "        UDA_plot_train_val_accuracy_vs_epoch, UDA_pytorch_classifier_predict, \\\n",
    "        UDA_pytorch_model_transform, UDA_compute_accuracy"
   ]
  },
  {
   "cell_type": "markdown",
   "metadata": {
    "id": "OVUPcKkRHbMm"
   },
   "source": [
    "**Loading in the data.** We first load the Fashion MNIST dataset and plot some example images."
   ]
  },
  {
   "cell_type": "code",
   "execution_count": null,
   "metadata": {
    "colab": {
     "base_uri": "https://localhost:8080/",
     "height": 248
    },
    "id": "Ht6VeSlhHbMm",
    "outputId": "74d12fc4-2854-4748-e54f-d28d014b0c87"
   },
   "outputs": [
    {
     "data": {
      "image/png": "[encoded data removed]",
      "text/plain": [
       "<Figure size 432x288 with 64 Axes>"
      ]
     },
     "metadata": {
      "needs_background": "light",
      "tags": []
     },
     "output_type": "display_data"
    }
   ],
   "source": [
    "# do not modify this cell\n",
    "train_dataset = torchvision.datasets.FashionMNIST(root='data/',\n",
    "                                                  train=True,\n",
    "                                                  transform=transforms.ToTensor(),\n",
    "                                                  download=True)\n",
    "\n",
    "train_images = torch.tensor([image.numpy() for image, label in train_dataset])\n",
    "train_labels = torch.tensor([label for image, label in train_dataset])\n",
    "\n",
    "test_dataset = torchvision.datasets.FashionMNIST(root='data/',\n",
    "                                                 train=False,\n",
    "                                                 transform=transforms.ToTensor(),\n",
    "                                                 download=True)\n",
    "\n",
    "test_images = torch.tensor([image.numpy() for image, label in test_dataset])\n",
    "test_labels = torch.tensor([label for image, label in test_dataset])\n",
    "\n",
    "# show some of the first training images\n",
    "square_grid_num_rows = 8\n",
    "num_images_to_show = square_grid_num_rows ** 2\n",
    "for idx in range(num_images_to_show):\n",
    "    plt.subplot(square_grid_num_rows, square_grid_num_rows, idx + 1)\n",
    "    plt.imshow(train_images[idx][0], cmap='gray')\n",
    "    plt.axis('off')"
   ]
  },
  {
   "cell_type": "markdown",
   "metadata": {
    "id": "6qXKLZwXHbMm"
   },
   "source": [
    "**(a) [5 points]** Select train and test data that belong to classes 2 (corresponding to pullovers) or 6 (corresponding to fancier shirts than t-shirts; note: class 0 corresponds to t-shirts), i.e., subsample all the data that has label 2 or 6. Save the variables as `x_train`, `x_test`, `y_train`, `y_test`. From now on, we are only dealing with the images that are in classes 2 (pullovers) or 6 (shirts). Moreover, in `y_train` and `y_test`, please renumber the two classes so that pullovers now instead corresponds to 0 and shirts corresponds to 1 (we will consider shirts to be the \"positive\" class and pullovers to be the \"negative\" class)."
   ]
  },
  {
   "cell_type": "code",
   "execution_count": null,
   "metadata": {
    "id": "PzhF0-93HbMm"
   },
   "outputs": [],
   "source": [
    "# write your code here\n",
    "train_index=np.where((train_labels==2) | (train_labels==6) )\n",
    "x_train = train_images[train_index]\n",
    "y_train = train_labels[train_index]\n",
    "y_train[y_train==2]=0\n",
    "y_train[y_train==6]=1\n",
    "test_index=np.where((test_labels==2) | (test_labels==6) )\n",
    "x_test = test_images[test_index]\n",
    "y_test = test_labels[test_index]\n",
    "y_test[y_test==2]=0\n",
    "y_test[y_test==6]=1"
   ]
  },
  {
   "cell_type": "code",
   "execution_count": null,
   "metadata": {
    "colab": {
     "base_uri": "https://localhost:8080/"
    },
    "id": "HjMIKsQ1NKEE",
    "outputId": "d46574e5-fd4b-4f6e-9dca-791f81411935"
   },
   "outputs": [
    {
     "data": {
      "text/plain": [
       "torch.Size([2000, 1, 28, 28])"
      ]
     },
     "execution_count": 47,
     "metadata": {
      "tags": []
     },
     "output_type": "execute_result"
    }
   ],
   "source": [
    "x_test.shape"
   ]
  },
  {
   "cell_type": "code",
   "execution_count": null,
   "metadata": {
    "colab": {
     "base_uri": "https://localhost:8080/"
    },
    "id": "av49BTFTHbMm",
    "outputId": "e2b60652-c304-4ac6-f3b2-c955949fd5b0"
   },
   "outputs": [
    {
     "name": "stdout",
     "output_type": "stream",
     "text": [
      "torch.Size([12000, 1, 28, 28]) torch.Size([12000])\n",
      "torch.Size([2000, 1, 28, 28]) torch.Size([2000])\n"
     ]
    }
   ],
   "source": [
    "# do not modify this cell\n",
    "print(x_train.shape, y_train.shape)\n",
    "print(x_test.shape, y_test.shape)"
   ]
  },
  {
   "cell_type": "markdown",
   "metadata": {
    "id": "Ba8vS3qLHbMm"
   },
   "source": [
    "We will make some t-SNE visualizations shortly and using all the training data will be too slow. We reduce the size of the training dataset by randomly subsampling 1000 samples from `x_train`/`y_train` pairs and saving the subsampled versions as `x_train_small`/`y_train_small` (the i-th image in `x_train_small` should have its label given by the i-th entry in `y_train_small`). We have provided the indices of which 1000 samples to use (from within `x_train`/`y_train`)."
   ]
  },
  {
   "cell_type": "code",
   "execution_count": null,
   "metadata": {
    "id": "-YblArTXHbMm"
   },
   "outputs": [],
   "source": [
    "# do not modify this cell\n",
    "np.random.seed(0)\n",
    "random_sample = np.random.permutation(len(x_train))[:1000]"
   ]
  },
  {
   "cell_type": "code",
   "execution_count": null,
   "metadata": {
    "id": "wzYGXsGCHbMm"
   },
   "outputs": [],
   "source": [
    "# write your code here\n",
    "x_train_small=x_train[random_sample]\n",
    "y_train_small=y_train[random_sample]"
   ]
  },
  {
   "cell_type": "markdown",
   "metadata": {
    "id": "VxYxI_QhHbMm"
   },
   "source": [
    "**(b) [9 points]** We are ready to load the pre-trained convnet. The bottleneck layer is right before the final linear layer and corresponds to the output of a ReLU that has 84 values. **We refer to the output of this ReLU as the bottleneck feature vector representation of whatever the input is.**\n",
    "\n",
    "Note that the convnet was pre-trained using the entire training dataset which consists of 60,000 samples and all 10 labels."
   ]
  },
  {
   "cell_type": "code",
   "execution_count": null,
   "metadata": {
    "colab": {
     "base_uri": "https://localhost:8080/",
     "height": 1000
    },
    "id": "ov2949I-HbMm",
    "outputId": "939139db-2f4c-482d-d132-e5c5b1fe7f3c"
   },
   "outputs": [
    {
     "name": "stdout",
     "output_type": "stream",
     "text": [
      "[Summary of pre-trained convnet]\n",
      "=========================================================\n",
      "        Kernel Shape     Output Shape   Params Mult-Adds\n",
      "Layer                                                   \n",
      "0_0     [1, 6, 3, 3]   [1, 6, 26, 26]     60.0   36.504k\n",
      "1_1                -   [1, 6, 26, 26]        -         -\n",
      "2_2                -   [1, 6, 13, 13]        -         -\n",
      "3_3    [6, 16, 3, 3]  [1, 16, 11, 11]    880.0  104.544k\n",
      "4_4                -  [1, 16, 11, 11]        -         -\n",
      "5_5                -    [1, 16, 5, 5]        -         -\n",
      "6_6                -         [1, 400]        -         -\n",
      "7_7       [400, 120]         [1, 120]   48.12k     48.0k\n",
      "8_8                -         [1, 120]        -         -\n",
      "9_9        [120, 84]          [1, 84]  10.164k    10.08k\n",
      "10_10              -          [1, 84]        -         -\n",
      "11_11       [84, 10]          [1, 10]    850.0     840.0\n",
      "---------------------------------------------------------\n",
      "                        Totals\n",
      "Total params           60.074k\n",
      "Trainable params       60.074k\n",
      "Non-trainable params       0.0\n",
      "Mult-Adds             199.968k\n",
      "=========================================================\n",
      "\n",
      "[Summary of the pre-trained convnet up to the bottleneck layer]\n",
      "=========================================================\n",
      "        Kernel Shape     Output Shape   Params Mult-Adds\n",
      "Layer                                                   \n",
      "0_0     [1, 6, 3, 3]   [1, 6, 26, 26]     60.0   36.504k\n",
      "1_1                -   [1, 6, 26, 26]        -         -\n",
      "2_2                -   [1, 6, 13, 13]        -         -\n",
      "3_3    [6, 16, 3, 3]  [1, 16, 11, 11]    880.0  104.544k\n",
      "4_4                -  [1, 16, 11, 11]        -         -\n",
      "5_5                -    [1, 16, 5, 5]        -         -\n",
      "6_6                -         [1, 400]        -         -\n",
      "7_7       [400, 120]         [1, 120]   48.12k     48.0k\n",
      "8_8                -         [1, 120]        -         -\n",
      "9_9        [120, 84]          [1, 84]  10.164k    10.08k\n",
      "10_10              -          [1, 84]        -         -\n",
      "---------------------------------------------------------\n",
      "                        Totals\n",
      "Total params           59.224k\n",
      "Trainable params       59.224k\n",
      "Non-trainable params       0.0\n",
      "Mult-Adds             199.128k\n",
      "=========================================================\n"
     ]
    },
    {
     "data": {
      "text/html": [
       "<div>\n",
       "<style scoped>\n",
       "    .dataframe tbody tr th:only-of-type {\n",
       "        vertical-align: middle;\n",
       "    }\n",
       "\n",
       "    .dataframe tbody tr th {\n",
       "        vertical-align: top;\n",
       "    }\n",
       "\n",
       "    .dataframe thead th {\n",
       "        text-align: right;\n",
       "    }\n",
       "</style>\n",
       "<table border=\"1\" class=\"dataframe\">\n",
       "  <thead>\n",
       "    <tr style=\"text-align: right;\">\n",
       "      <th></th>\n",
       "      <th>Kernel Shape</th>\n",
       "      <th>Output Shape</th>\n",
       "      <th>Params</th>\n",
       "      <th>Mult-Adds</th>\n",
       "    </tr>\n",
       "    <tr>\n",
       "      <th>Layer</th>\n",
       "      <th></th>\n",
       "      <th></th>\n",
       "      <th></th>\n",
       "      <th></th>\n",
       "    </tr>\n",
       "  </thead>\n",
       "  <tbody>\n",
       "    <tr>\n",
       "      <th>0_0</th>\n",
       "      <td>[1, 6, 3, 3]</td>\n",
       "      <td>[1, 6, 26, 26]</td>\n",
       "      <td>60.0</td>\n",
       "      <td>36504.0</td>\n",
       "    </tr>\n",
       "    <tr>\n",
       "      <th>1_1</th>\n",
       "      <td>-</td>\n",
       "      <td>[1, 6, 26, 26]</td>\n",
       "      <td>NaN</td>\n",
       "      <td>NaN</td>\n",
       "    </tr>\n",
       "    <tr>\n",
       "      <th>2_2</th>\n",
       "      <td>-</td>\n",
       "      <td>[1, 6, 13, 13]</td>\n",
       "      <td>NaN</td>\n",
       "      <td>NaN</td>\n",
       "    </tr>\n",
       "    <tr>\n",
       "      <th>3_3</th>\n",
       "      <td>[6, 16, 3, 3]</td>\n",
       "      <td>[1, 16, 11, 11]</td>\n",
       "      <td>880.0</td>\n",
       "      <td>104544.0</td>\n",
       "    </tr>\n",
       "    <tr>\n",
       "      <th>4_4</th>\n",
       "      <td>-</td>\n",
       "      <td>[1, 16, 11, 11]</td>\n",
       "      <td>NaN</td>\n",
       "      <td>NaN</td>\n",
       "    </tr>\n",
       "    <tr>\n",
       "      <th>5_5</th>\n",
       "      <td>-</td>\n",
       "      <td>[1, 16, 5, 5]</td>\n",
       "      <td>NaN</td>\n",
       "      <td>NaN</td>\n",
       "    </tr>\n",
       "    <tr>\n",
       "      <th>6_6</th>\n",
       "      <td>-</td>\n",
       "      <td>[1, 400]</td>\n",
       "      <td>NaN</td>\n",
       "      <td>NaN</td>\n",
       "    </tr>\n",
       "    <tr>\n",
       "      <th>7_7</th>\n",
       "      <td>[400, 120]</td>\n",
       "      <td>[1, 120]</td>\n",
       "      <td>48120.0</td>\n",
       "      <td>48000.0</td>\n",
       "    </tr>\n",
       "    <tr>\n",
       "      <th>8_8</th>\n",
       "      <td>-</td>\n",
       "      <td>[1, 120]</td>\n",
       "      <td>NaN</td>\n",
       "      <td>NaN</td>\n",
       "    </tr>\n",
       "    <tr>\n",
       "      <th>9_9</th>\n",
       "      <td>[120, 84]</td>\n",
       "      <td>[1, 84]</td>\n",
       "      <td>10164.0</td>\n",
       "      <td>10080.0</td>\n",
       "    </tr>\n",
       "    <tr>\n",
       "      <th>10_10</th>\n",
       "      <td>-</td>\n",
       "      <td>[1, 84]</td>\n",
       "      <td>NaN</td>\n",
       "      <td>NaN</td>\n",
       "    </tr>\n",
       "  </tbody>\n",
       "</table>\n",
       "</div>"
      ],
      "text/plain": [
       "        Kernel Shape     Output Shape   Params  Mult-Adds\n",
       "Layer                                                    \n",
       "0_0     [1, 6, 3, 3]   [1, 6, 26, 26]     60.0    36504.0\n",
       "1_1                -   [1, 6, 26, 26]      NaN        NaN\n",
       "2_2                -   [1, 6, 13, 13]      NaN        NaN\n",
       "3_3    [6, 16, 3, 3]  [1, 16, 11, 11]    880.0   104544.0\n",
       "4_4                -  [1, 16, 11, 11]      NaN        NaN\n",
       "5_5                -    [1, 16, 5, 5]      NaN        NaN\n",
       "6_6                -         [1, 400]      NaN        NaN\n",
       "7_7       [400, 120]         [1, 120]  48120.0    48000.0\n",
       "8_8                -         [1, 120]      NaN        NaN\n",
       "9_9        [120, 84]          [1, 84]  10164.0    10080.0\n",
       "10_10              -          [1, 84]      NaN        NaN"
      ]
     },
     "execution_count": 51,
     "metadata": {
      "tags": []
     },
     "output_type": "execute_result"
    }
   ],
   "source": [
    "# load the pre-trained CNN\n",
    "convnet = nn.Sequential(nn.Conv2d(1, 6, 3),\n",
    "                        nn.ReLU(),\n",
    "                        nn.MaxPool2d(2),\n",
    "                        nn.Conv2d(6, 16, 3),\n",
    "                        nn.ReLU(),\n",
    "                        nn.MaxPool2d(2),\n",
    "                        nn.Flatten(),\n",
    "                        nn.Linear(in_features=16 * 5 * 5, out_features=120),\n",
    "                        nn.ReLU(),\n",
    "                        nn.Linear(in_features=120, out_features=84),\n",
    "                        nn.ReLU(),\n",
    "                        nn.Linear(in_features=84, out_features=10))\n",
    "convnet.load_state_dict(torch.load('pretrained_convnet.pt'))\n",
    "convnet.eval()\n",
    "print('[Summary of pre-trained convnet]')\n",
    "summary(convnet, torch.zeros((1, 1, 28, 28)))\n",
    "print()\n",
    "\n",
    "# select the pretrained CNN upto the bottleneck layer\n",
    "intermediate_layer_model = convnet[:-1]\n",
    "print('[Summary of the pre-trained convnet up to the bottleneck layer]')\n",
    "summary(intermediate_layer_model, torch.zeros((1, 1, 28, 28)))"
   ]
  },
  {
   "cell_type": "markdown",
   "metadata": {
    "id": "Qx83qoGIHbMm"
   },
   "source": [
    "We first extract bottleneck feature vectors of the subsampled 1000 training data from the intermediate model."
   ]
  },
  {
   "cell_type": "code",
   "execution_count": null,
   "metadata": {
    "id": "6OX_xaqKHbMm"
   },
   "outputs": [],
   "source": [
    "# do not modify this cell\n",
    "x_train_small_bottleneck_representation = UDA_pytorch_model_transform(intermediate_layer_model, x_train_small)"
   ]
  },
  {
   "cell_type": "markdown",
   "metadata": {
    "id": "liV4k9_vHbMm"
   },
   "source": [
    "Next, visualize two different types of features with t-SNE.\n",
    "\n",
    "1. Make a t-SNE plot using the **784 (=28$\\times$28) dimensional raw features** from the subsampled training data (i.e., using `x_train_small`). Set `n_components=2, verbose=1, perplexity=25, random_state=0` for `TSNE` from scikit-learn. Plot the two classes in different colors.\n",
    "\n",
    "2. Repeat the previous step (using the exact same arguments for `TSNE`) except now using the **84 dimensional bottleneck features** (i.e., using `x_train_small_bottleneck_representation`.\n",
    "\n",
    "You may need to convert between PyTorch tensors and NumPy arrays."
   ]
  },
  {
   "cell_type": "code",
   "execution_count": null,
   "metadata": {
    "colab": {
     "base_uri": "https://localhost:8080/"
    },
    "id": "fdwcSeAWHbMm",
    "outputId": "eefedc2e-0324-4259-88c3-70e93387614f"
   },
   "outputs": [
    {
     "data": {
      "text/plain": [
       "torch.Size([1000, 84])"
      ]
     },
     "execution_count": 59,
     "metadata": {
      "tags": []
     },
     "output_type": "execute_result"
    }
   ],
   "source": [
    "# write your code here\n",
    "x_train_small_bottleneck_representation.shape"
   ]
  },
  {
   "cell_type": "code",
   "execution_count": null,
   "metadata": {
    "colab": {
     "base_uri": "https://localhost:8080/"
    },
    "id": "1qgcAolhbYS4",
    "outputId": "7fc2d60f-899a-4608-8bc8-28f605eacb01"
   },
   "outputs": [
    {
     "data": {
      "text/plain": [
       "torch.Size([1000, 1, 28, 28])"
      ]
     },
     "execution_count": 63,
     "metadata": {
      "tags": []
     },
     "output_type": "execute_result"
    }
   ],
   "source": [
    "x_train_small.shape"
   ]
  },
  {
   "cell_type": "code",
   "execution_count": null,
   "metadata": {
    "colab": {
     "base_uri": "https://localhost:8080/"
    },
    "id": "ZtMp0cQXbcYk",
    "outputId": "cc96a147-247c-47ba-b11b-a69c032ae17f"
   },
   "outputs": [
    {
     "data": {
      "text/plain": [
       "1000"
      ]
     },
     "execution_count": 64,
     "metadata": {
      "tags": []
     },
     "output_type": "execute_result"
    }
   ],
   "source": [
    "len(x_train_small)"
   ]
  },
  {
   "cell_type": "code",
   "execution_count": null,
   "metadata": {
    "colab": {
     "base_uri": "https://localhost:8080/"
    },
    "id": "wWAooD3Raexo",
    "outputId": "9832a5e4-10b1-45b5-9f91-5afc6b4df4c8"
   },
   "outputs": [
    {
     "name": "stdout",
     "output_type": "stream",
     "text": [
      "[t-SNE] Computing 76 nearest neighbors...\n",
      "[t-SNE] Indexed 1000 samples in 0.051s...\n",
      "[t-SNE] Computed neighbors for 1000 samples in 1.600s...\n",
      "[t-SNE] Computed conditional probabilities for sample 1000 / 1000\n",
      "[t-SNE] Mean sigma: 1.929498\n",
      "[t-SNE] KL divergence after 250 iterations with early exaggeration: 70.154640\n",
      "[t-SNE] KL divergence after 1000 iterations: 1.066530\n"
     ]
    },
    {
     "data": {
      "text/plain": [
       "(1000, 2)"
      ]
     },
     "execution_count": 65,
     "metadata": {
      "tags": []
     },
     "output_type": "execute_result"
    }
   ],
   "source": [
    "\n",
    "from sklearn.manifold import TSNE\n",
    "tsne = TSNE(n_components=2,verbose=1, perplexity=25, random_state=0)\n",
    "tsne_res=tsne.fit_transform(x_train_small.reshape(len(x_train_small),-1))\n",
    "tsne_res.shape"
   ]
  },
  {
   "cell_type": "code",
   "execution_count": null,
   "metadata": {
    "colab": {
     "base_uri": "https://localhost:8080/"
    },
    "id": "elr44Dg-b011",
    "outputId": "94577605-259e-4628-93c4-6c2d9ce0e6fe"
   },
   "outputs": [
    {
     "data": {
      "text/plain": [
       "array([[-40.056606  ,  19.579802  ],\n",
       "       [ 10.47989   ,  -7.7919273 ],\n",
       "       [ 27.242466  ,   2.0550318 ],\n",
       "       ...,\n",
       "       [-14.111373  ,   1.9924562 ],\n",
       "       [  0.74748653,  12.417704  ],\n",
       "       [  0.82332563,  20.184069  ]], dtype=float32)"
      ]
     },
     "execution_count": 68,
     "metadata": {
      "tags": []
     },
     "output_type": "execute_result"
    }
   ],
   "source": [
    "tsne_res"
   ]
  },
  {
   "cell_type": "code",
   "execution_count": null,
   "metadata": {
    "colab": {
     "base_uri": "https://localhost:8080/",
     "height": 282
    },
    "id": "L06MH42WbllU",
    "outputId": "ef25dfc9-31a4-4b4b-b076-b61393348252"
   },
   "outputs": [
    {
     "data": {
      "text/plain": [
       "<matplotlib.collections.PathCollection at 0x7fcf0a316ac8>"
      ]
     },
     "execution_count": 71,
     "metadata": {
      "tags": []
     },
     "output_type": "execute_result"
    },
    {
     "data": {
      "image/png": "[encoded data removed]",
      "text/plain": [
       "<Figure size 432x288 with 1 Axes>"
      ]
     },
     "metadata": {
      "needs_background": "light",
      "tags": []
     },
     "output_type": "display_data"
    }
   ],
   "source": [
    "import matplotlib.pyplot as plt\n",
    "plt.scatter(tsne_res[:,0],tsne_res[:,1],c=y_train_small,cmap='Spectral')\n"
   ]
  },
  {
   "cell_type": "code",
   "execution_count": null,
   "metadata": {
    "colab": {
     "base_uri": "https://localhost:8080/",
     "height": 399
    },
    "id": "KCuZ4_cbcZHN",
    "outputId": "54305ddd-3303-4384-ba0a-1c932ea483bf"
   },
   "outputs": [
    {
     "name": "stdout",
     "output_type": "stream",
     "text": [
      "[t-SNE] Computing 76 nearest neighbors...\n",
      "[t-SNE] Indexed 1000 samples in 0.008s...\n",
      "[t-SNE] Computed neighbors for 1000 samples in 0.163s...\n",
      "[t-SNE] Computed conditional probabilities for sample 1000 / 1000\n",
      "[t-SNE] Mean sigma: 2.053075\n",
      "[t-SNE] KL divergence after 250 iterations with early exaggeration: 67.166046\n",
      "[t-SNE] KL divergence after 1000 iterations: 0.992456\n"
     ]
    },
    {
     "data": {
      "text/plain": [
       "<matplotlib.collections.PathCollection at 0x7fcf08a87a58>"
      ]
     },
     "execution_count": 75,
     "metadata": {
      "tags": []
     },
     "output_type": "execute_result"
    },
    {
     "data": {
      "image/png": "[encoded data removed]",
      "text/plain": [
       "<Figure size 432x288 with 1 Axes>"
      ]
     },
     "metadata": {
      "needs_background": "light",
      "tags": []
     },
     "output_type": "display_data"
    }
   ],
   "source": [
    "tsne_res2=tsne.fit_transform(x_train_small_bottleneck_representation.cpu())\n",
    "plt.scatter(tsne_res2[:,0],tsne_res2[:,1],c=y_train_small,cmap='Spectral')"
   ]
  },
  {
   "cell_type": "markdown",
   "metadata": {
    "id": "DVtFkmYkHbMm"
   },
   "source": [
    "**(c) [16 points]** We now evaluate on test data and compare several different classifiers. Train **5-NN** and **random forest** classifiers with **784 (=28$\\times$28) raw features** and, separately, the **84 bottleneck features** from **all training data**, respectively. That means you should train 4 models in total:\n",
    "\n",
    "1. 5-NN classifier trained on all raw training features\n",
    "2. 5-NN classifier trained on all training bottleneck features\n",
    "3. Random forest trained on all raw training features (for reproducibility of code, please use arguments `n_estimators=100, random_state=0` for `RandomForestClassifier`)\n",
    "4. Random forest trained on all training bottleneck features (again, use `n_estimators=100, random_state=0`)\n",
    "\n",
    "Test each model with corresponding **test dataset** and print the test accuracy. Also, compute and print the test accuracy of the **pre-trained convnet** (`convnet`) by using **test data**. You may think of this task as filling in the blanks of the following table with test accuracy results.\n",
    "\n",
    "| Model type       | Raw features        | Bottleneck features  |\n",
    "|:---------------- |:-------------------:|:--------------------:|\n",
    "| Pretrained CNN   |          0.891           | this cell stays empty|\n",
    "| 5-NN             |          0.856           |        0.888              |\n",
    "| Random forest    |          0.8765           |         0.898             |\n",
    "\n",
    "Important: the pre-trained convnet is for all 10 classes; only look at the probabilities corresponding to pullovers (class 2) and shirts (class 6), and take an argmax only over these two class probabilities to come up with predictions stricted to pullovers or shirts."
   ]
  },
  {
   "cell_type": "code",
   "execution_count": null,
   "metadata": {
    "colab": {
     "base_uri": "https://localhost:8080/"
    },
    "id": "bOKLrdTVekt1",
    "outputId": "21a380c1-f025-4ac4-ebe7-b132e17fc721"
   },
   "outputs": [
    {
     "data": {
      "text/plain": [
       "torch.Size([12000, 1, 28, 28])"
      ]
     },
     "execution_count": 76,
     "metadata": {
      "tags": []
     },
     "output_type": "execute_result"
    }
   ],
   "source": [
    "x_train.shape"
   ]
  },
  {
   "cell_type": "code",
   "execution_count": null,
   "metadata": {
    "id": "a3NGmKCPeyHC"
   },
   "outputs": [],
   "source": [
    "UDA_pytorch_model_transform(intermediate_layer_model, x_train_small)"
   ]
  },
  {
   "cell_type": "code",
   "execution_count": null,
   "metadata": {
    "colab": {
     "base_uri": "https://localhost:8080/"
    },
    "id": "ledHFZH7HbMn",
    "outputId": "337e979e-a61c-4c47-9ea0-7bb3f872c3cd"
   },
   "outputs": [
    {
     "data": {
      "text/plain": [
       "0.856"
      ]
     },
     "execution_count": 80,
     "metadata": {
      "tags": []
     },
     "output_type": "execute_result"
    }
   ],
   "source": [
    "# write your code here\n",
    "from sklearn.neighbors import KNeighborsClassifier\n",
    "from sklearn.metrics import accuracy_score\n",
    "knnclass1=KNeighborsClassifier(n_neighbors=5)\n",
    "knnclass1.fit(x_train.reshape(len(x_train),-1),y_train)\n",
    "knn1_predict=knnclass1.predict(x_test.reshape(len(x_test),-1))\n",
    "knn1_ac=accuracy_score(y_test,knn1_predict)\n",
    "knn1_ac"
   ]
  },
  {
   "cell_type": "code",
   "execution_count": null,
   "metadata": {
    "colab": {
     "base_uri": "https://localhost:8080/"
    },
    "id": "GbYSXwOAfKRM",
    "outputId": "8b9bbaa0-f549-42d7-ed27-43569cac92a5"
   },
   "outputs": [
    {
     "data": {
      "text/plain": [
       "0.888"
      ]
     },
     "execution_count": 84,
     "metadata": {
      "tags": []
     },
     "output_type": "execute_result"
    }
   ],
   "source": [
    "knnbottle_train=UDA_pytorch_model_transform(intermediate_layer_model, x_train).cpu()\n",
    "knnclass2=KNeighborsClassifier(n_neighbors=5)\n",
    "knnclass2.fit(knnbottle_train,y_train)\n",
    "test_bottle=UDA_pytorch_model_transform(intermediate_layer_model, x_test).cpu()\n",
    "knn2_predict=knnclass2.predict(test_bottle)\n",
    "knn2_ac=accuracy_score(y_test,knn2_predict)\n",
    "knn2_ac"
   ]
  },
  {
   "cell_type": "code",
   "execution_count": null,
   "metadata": {
    "id": "LFgIrtmJheWN"
   },
   "outputs": [],
   "source": [
    "pretrain_res=UDA_pytorch_model_transform(convnet,x_test).cpu()\n",
    "pretrain_res2=pretrain_res[:,[2,6]].argmax(axis=1)"
   ]
  },
  {
   "cell_type": "code",
   "execution_count": null,
   "metadata": {
    "colab": {
     "base_uri": "https://localhost:8080/"
    },
    "id": "Lt5xaSBekztB",
    "outputId": "9841b8b6-8415-4b5b-b68b-46633fcae27f"
   },
   "outputs": [
    {
     "data": {
      "text/plain": [
       "0.891"
      ]
     },
     "execution_count": 149,
     "metadata": {
      "tags": []
     },
     "output_type": "execute_result"
    }
   ],
   "source": [
    "pretrain_res2[np.where(pretrain_res2==2)]=0\n",
    "pretrain_res2[np.where(pretrain_res2==6)]=1\n",
    "accuracy_score(y_test,pretrain_res2)"
   ]
  },
  {
   "cell_type": "code",
   "execution_count": null,
   "metadata": {
    "colab": {
     "base_uri": "https://localhost:8080/"
    },
    "id": "Ferq8xEgk7TO",
    "outputId": "4efbfad8-8ed2-4514-eb9b-31bb9c4c4db6"
   },
   "outputs": [
    {
     "data": {
      "text/plain": [
       "0.8765"
      ]
     },
     "execution_count": 119,
     "metadata": {
      "tags": []
     },
     "output_type": "execute_result"
    }
   ],
   "source": [
    "from sklearn.ensemble import RandomForestClassifier\n",
    "rf_class1=RandomForestClassifier(n_estimators=100, random_state=0)\n",
    "rf_class1.fit(x_train.reshape(len(x_train),-1),y_train)\n",
    "rf1_predict=rf_class1.predict(x_test.reshape(len(x_test),-1))\n",
    "rf1_ac=UDA_compute_accuracy(y_test,rf1_predict)\n",
    "rf1_ac"
   ]
  },
  {
   "cell_type": "code",
   "execution_count": null,
   "metadata": {
    "colab": {
     "base_uri": "https://localhost:8080/"
    },
    "id": "LHIMoWbenS2e",
    "outputId": "5e1177d2-5202-4f90-b9d0-f71312f6d9c2"
   },
   "outputs": [
    {
     "data": {
      "text/plain": [
       "0.898"
      ]
     },
     "execution_count": 120,
     "metadata": {
      "tags": []
     },
     "output_type": "execute_result"
    }
   ],
   "source": [
    "rfbottle_train=UDA_pytorch_model_transform(intermediate_layer_model, x_train).cpu()\n",
    "\n",
    "\n",
    "rf_class2=RandomForestClassifier(n_estimators=100, random_state=0)\n",
    "rf_class2.fit(rfbottle_train,y_train)\n",
    "rftest_bottle=UDA_pytorch_model_transform(intermediate_layer_model, x_test).cpu()\n",
    "rf2_predict=rf_class2.predict(rftest_bottle)\n",
    "rf2_ac=UDA_compute_accuracy(y_test,rf2_predict)\n",
    "rf2_ac\n"
   ]
  },
  {
   "cell_type": "code",
   "execution_count": null,
   "metadata": {
    "colab": {
     "base_uri": "https://localhost:8080/"
    },
    "id": "qsYrIlzGmDH-",
    "outputId": "bcf4167e-4445-431d-de13-219396db0b8b"
   },
   "outputs": [
    {
     "data": {
      "text/plain": [
       "0.898"
      ]
     },
     "execution_count": 136,
     "metadata": {
      "tags": []
     },
     "output_type": "execute_result"
    }
   ],
   "source": [
    "np.mean(y_test.numpy()==rf2_predict)"
   ]
  },
  {
   "cell_type": "markdown",
   "metadata": {
    "id": "Yld9dZwnHbMn"
   },
   "source": [
    "Among the five models above, which model performed the best? Which model showed the lowest accuracy? For the 5-NN and random forest classifiers, is the prediction accuracy higher using bottleneck features instead of the raw features?"
   ]
  },
  {
   "cell_type": "markdown",
   "metadata": {
    "id": "a4BRaiUWHbMn"
   },
   "source": [
    "**Write your answers here:**\n",
    "\n",
    "Random forest with bottleneck features perform the best. Pretrained CNN performed the wrost. Yes, using bottleneck features brings higher accuracies."
   ]
  },
  {
   "cell_type": "markdown",
   "metadata": {
    "id": "-z05cDGnHbMn"
   },
   "source": [
    "**(d) [10 points]** We now look at plotting an ROC curve, varying $k$ in $k$-NN. Train k-NN classifiers with $k=1,2,...,50$ with **bottleneck** feature vectors of all **training** data. As a result, you will get 50 classifiers. Draw a scatter plot that has false positive rate (FPR) on x-axis and true positive rate (TPR) on y-axis. Each scatter point represents one k-NN classifier. Use the **test** data to compute FPR and TPR.\n",
    "\n",
    "Recall that true and false positive rate calculations require you to specify one of the two outcomes as the \"positive\" class and the other as the \"negative\" class. For this problem, use class 6 (shirts) as the \"positive\" class, and class 2 (pullovers) as the \"negative\" class."
   ]
  },
  {
   "cell_type": "code",
   "execution_count": null,
   "metadata": {
    "id": "ihr4IosmHbMn"
   },
   "outputs": [],
   "source": [
    "# write your code here\n",
    "import numpy as np\n",
    "bottle_train_2d=UDA_pytorch_model_transform(intermediate_layer_model, x_train).cpu()\n",
    "test_bottle_2d=UDA_pytorch_model_transform(intermediate_layer_model, x_test).cpu()\n",
    "tpr_list=[]\n",
    "fpr_list=[]\n",
    "for i in range(50):\n",
    "    classifier = KNeighborsClassifier(n_neighbors=i+1)\n",
    "    classifier.fit(bottle_train_2d, y_train)\n",
    "    predicted_val_labels = classifier.predict(test_bottle_2d)\n",
    "    tp=[1 for i in range(len(y_test)) if y_test[i]==predicted_val_labels[i] and predicted_val_labels[i]==1 ]\n",
    "    fn=[1 for i in range(len(y_test)) if y_test[i]!=predicted_val_labels[i] and predicted_val_labels[i]==0 ]\n",
    "    fp=[1 for i in range(len(y_test)) if y_test[i]!=predicted_val_labels[i] and predicted_val_labels[i]==1 ]\n",
    "    tn=[1 for i in range(len(y_test)) if y_test[i]==predicted_val_labels[i] and predicted_val_labels[i]==0 ]\n",
    "    tp=np.array(tp).sum()\n",
    "    fn=np.array(fn).sum()\n",
    "    fp=np.array(fp).sum()\n",
    "    tn=np.array(tn).sum()\n",
    "    tpr= tp/(tp+fn)\n",
    "    fpr=fp/(fp+tn)\n",
    "    tpr_list.append(tpr)\n",
    "    fpr_list.append(fpr)\n"
   ]
  },
  {
   "cell_type": "code",
   "execution_count": null,
   "metadata": {
    "colab": {
     "base_uri": "https://localhost:8080/",
     "height": 279
    },
    "id": "egR1o0qKrVO4",
    "outputId": "25be078d-faac-4151-bab1-aff129d2355f"
   },
   "outputs": [
    {
     "data": {
      "image/png": "[encoded data removed]",
      "text/plain": [
       "<Figure size 432x288 with 1 Axes>"
      ]
     },
     "metadata": {
      "needs_background": "light",
      "tags": []
     },
     "output_type": "display_data"
    }
   ],
   "source": [
    "fig, ax = plt.subplots()\n",
    "ax.scatter(fpr_list,tpr_list)\n",
    "plt.xlabel('FPR')\n",
    "plt.ylabel('TPR')\n",
    "# plt.legend()\n",
    "for i in range(50):\n",
    "    ax.annotate(i+1, (fpr_list[i], tpr_list[i]))"
   ]
  },
  {
   "cell_type": "markdown",
   "metadata": {
    "id": "3pudSac1HbMn"
   },
   "source": [
    "Suppose you work for a company that wants to figure out when a shirt appears among photos that have either shirts or pullovers. The company tells you that it cannot tolerate a false positive rate of detecting shirts that is more than 12.5%. What value of number of nearest neighbors $k$ achieves the highest true positive rate, but doesn't have more than a 12.5% false positive rate?"
   ]
  },
  {
   "cell_type": "markdown",
   "metadata": {
    "id": "D8F8tAcgHbMn"
   },
   "source": [
    "**Write your answer here:**\n",
    "\n",
    "11"
   ]
  },
  {
   "cell_type": "code",
   "execution_count": null,
   "metadata": {
    "colab": {
     "base_uri": "https://localhost:8080/"
    },
    "id": "lcjFqhThHbMn",
    "outputId": "ebc14b32-daf3-4d68-96d1-22f8f4a4cedd"
   },
   "outputs": [
    {
     "name": "stdout",
     "output_type": "stream",
     "text": [
      "11\n"
     ]
    }
   ],
   "source": [
    "# write your code here (if it helps you justify your answer above)\n",
    "tprmax=-np.inf\n",
    "maxindex=-1\n",
    "for i in range(50):\n",
    "    if fpr_list[i]<0.125:\n",
    "\n",
    "        if tpr_list[i]>tprmax:\n",
    "            tprmax=tpr_list[i]\n",
    "            maxindex=i+1\n",
    "print(maxindex)"
   ]
  },
  {
   "cell_type": "markdown",
   "metadata": {
    "id": "X9K1nGZQHbMn"
   },
   "source": [
    "# Part 3: Sentiment Analysis [40 points]\n",
    "\n",
    "Download data from: http://www.andrew.cmu.edu/user/georgech/HW3-data.zip <br>\n",
    "\n",
    "The folder contains:\n",
    "\n",
    "- `train.csv`\n",
    "- `test.csv`\n",
    "\n",
    "In this problem, we look at predicting whether a tweet has positive or negative sentiment.\n",
    "\n",
    "**We intentionally wrote this problem to be a bit open-ended to let you play with different neural net code yourself and also for you to compare against a classical baseline.** We will give full credit even if you subsample the training data. For example, you only work with 5000 randomly chosen training tweets instead of all of them (over 1 million tweets). Also, for the random forest part (the last part), you can keep track of only the most frequently occurring 1000 words (again, this is enough for full credit) and you can also set the RandomForestClassifier argument \"n_jobs\" to -1 to use all your CPU threads. However, do not subsample the test dataset (which is small anyways).\n",
    "\n",
    "If you want to have practice with what it's like working with a sizable dataset though, we do encourage you to try to use as much of the training data as possible (our solution code uses the full training data in an 80-20 split between a proper training set and a validation set, just like in lectures). Note that using all the data does involve more careful data preprocessing to avoid possible memory issues. Some suggestions:\n",
    "\n",
    "- Using your knowledge from weeks 1 and 2, you can write your own code to tokenize tweets and only include some of the tokens (e.g., only keeping the most common 1000 tokens, etc); in particular you can build your own vocabulary. As a suggestion, make vocabulary token \\#0 correspond to a special padding character `\"<pad>\"`; this special index 0 will in fact be automatically added by the batching process for recurrent neural nets when making different tweets within the same batch have the same length. As another suggestion, make a special vocabulary token `\"<unk>\"` for unknown tokens that you've decided not to keep track of. For example, if you only keep track of the most common 1000 tokens, then any token that is not one of these most common 1000 gets represented as `\"<unk>\"`.\n",
    "\n",
    "- For the last part, training a random forest for sentiment analysis could be very computationally expensive. If you are already subsampling the training data beforehand, then great, just work with a smaller dataset (note: you should use the same training data for both the LSTM and for the random forest so that the comparison between them is fair). If you want to still try to use the full training dataset or as much of it as possible, then we suggest that you represent the feature vectors as a sparse matrix. You might also want to set the \"max_samples\" argument to be something like 0.1 so that each tree uses a 10% subsample of the proper training set (with the default choice of 100 trees, across all your trees, you will likely use the vast majority of the full training set---it's just that each tree won't look at more than 10% of the proper training set). Also, simple data splitting suffices; cross-validation here would be very expensive. Moreover, it's fine to not train a random forest from scratch using the best hyperparameters found; instead just use whichever model was trained using the proper training data with the best hyperparameters found."
   ]
  },
  {
   "cell_type": "markdown",
   "metadata": {
    "id": "2H82H6eMHbMn"
   },
   "source": [
    "**(a) [5 points]** We first read in the tweet data. Read the data present in `train.csv` file. **Please do not change the filename. In particular, use a relative path, i.e., `./HW3-data/train.csv`**. Then do the following:\n",
    "\n",
    "1. Keep only the sentiment and sentiment text in the data - the first and the last coumn\n",
    "2. Print the number of positive and negative sentiment labels\n",
    "\n",
    "Note: If you are using `open()`, you may have to set `encoding='iso8859'`."
   ]
  },
  {
   "cell_type": "code",
   "execution_count": 2,
   "metadata": {
    "id": "uMVAK0rvHbMn"
   },
   "outputs": [
    {
     "name": "stdout",
     "output_type": "stream",
     "text": [
      "negative label: 800000positive label: 800000\n"
     ]
    }
   ],
   "source": [
    "# your code here\n",
    "import numpy as np\n",
    "train=[]\n",
    "with open('train.csv',encoding='iso8859') as f:\n",
    "    for line in f:\n",
    "        train.append(line.strip())\n",
    "len(train)\n",
    "train2 = [ [line.split(',')[0],line.split(',')[-1]] for line in train]\n",
    "train3 = np.array(train2)\n",
    "neglen=np.count_nonzero(train3[:,0]=='0')\n",
    "poslen=np.count_nonzero(train3[:,0]=='1')\n",
    "print(\"negative label: \"+str(neglen)+\"positive label: \"+str(poslen))"
   ]
  },
  {
   "cell_type": "code",
   "execution_count": 3,
   "metadata": {},
   "outputs": [
    {
     "data": {
      "text/plain": [
       "(5000, 2)"
      ]
     },
     "execution_count": 3,
     "metadata": {},
     "output_type": "execute_result"
    }
   ],
   "source": [
    "index = np.random.permutation(len(train3))\n",
    "train4=train3[index[:5000]]\n",
    "train4.shape"
   ]
  },
  {
   "cell_type": "markdown",
   "metadata": {
    "id": "dyLlVHgsHbMn"
   },
   "source": [
    "**(b) [25 points]** Modify the LSTM demo code from lecture to work with this Twitter dataset. Play with the learning rate and batch size so that the training gives reasonable increases in training and validation accuracies as we progress through epochs (leave the number of epochs at 10). Also feel free to try different neural net architectures (although you do not have to). What test accuracy are you able to achieve?"
   ]
  },
  {
   "cell_type": "code",
   "execution_count": 94,
   "metadata": {
    "scrolled": false
   },
   "outputs": [
    {
     "name": "stdout",
     "output_type": "stream",
     "text": [
      "Epoch 1 [==================================================] 4000/4000\n",
      "  Train accuracy: 0.5048\n",
      "  Validation accuracy: 0.5100\n",
      "Epoch 2 [==================================================] 4000/4000\n",
      "  Train accuracy: 0.5158\n",
      "  Validation accuracy: 0.5310\n",
      "Epoch 3 [==================================================] 4000/4000\n",
      "  Train accuracy: 0.5647\n",
      "  Validation accuracy: 0.5600\n",
      "Epoch 4 [==================================================] 4000/4000\n",
      "  Train accuracy: 0.6730\n",
      "  Validation accuracy: 0.6560\n",
      "Epoch 5 [==================================================] 4000/4000\n",
      "  Train accuracy: 0.6610\n",
      "  Validation accuracy: 0.6110\n",
      "Epoch 6 [==================================================] 4000/4000\n",
      "  Train accuracy: 0.6380\n",
      "  Validation accuracy: 0.5980\n",
      "Epoch 7 [==================================================] 4000/4000\n",
      "  Train accuracy: 0.7037\n",
      "  Validation accuracy: 0.6450\n",
      "Epoch 8 [==================================================] 4000/4000\n",
      "  Train accuracy: 0.7133\n",
      "  Validation accuracy: 0.6620\n",
      "Epoch 9 [==================================================] 4000/4000\n",
      "  Train accuracy: 0.6358\n",
      "  Validation accuracy: 0.5790\n",
      "Epoch 10 [==================================================] 4000/4000\n",
      "  Train accuracy: 0.5910\n",
      "  Validation accuracy: 0.5820\n"
     ]
    },
    {
     "data": {
      "image/png": "[encoded data removed]",
      "text/plain": [
       "<Figure size 432x288 with 1 Axes>"
      ]
     },
     "metadata": {
      "needs_background": "light"
     },
     "output_type": "display_data"
    }
   ],
   "source": [
    "import torch\n",
    "proper_train_size = int(len(train4) * 0.8)\n",
    "val_size = len(train4) - proper_train_size\n",
    "proper_train_dataset, val_dataset = torch.utils.data.random_split(train4,\n",
    "                                                                  [proper_train_size,\n",
    "                                                                   val_size])\n",
    "from torchnlp.encoders.text import SpacyEncoder\n",
    "encoder = SpacyEncoder([str(data[1]) for data in proper_train_dataset])\n",
    "proper_train_encoded = [encoder.encode(str(data[1])) for data in proper_train_dataset]\n",
    "proper_train_labels = torch.tensor([int(data[0]) for data in proper_train_dataset])\n",
    "val_encoded = [encoder.encode(str(data[1])) for data in val_dataset]\n",
    "val_labels = torch.tensor([int(data[0]) for data in val_dataset])\n",
    "proper_train_dataset_encoded = list(zip(proper_train_encoded, proper_train_labels))\n",
    "val_dataset_encoded = list(zip(val_encoded, val_labels))\n",
    "train4\n",
    "# train_c = [encoder.encode(str(i[1])) for i in train4]\n",
    "# train_label_c= torch.tensor([int(data[0]) for data in train4])\n",
    "# [ data[1] for data in train4 ]\n",
    "train_c =[encoder.encode(str(i[1])) for i in train4]\n",
    "train_encoded_c =[]\n",
    "train_label_c=torch.tensor([int(data[0]) for data in train4])\n",
    "train_label_c\n",
    "\n",
    "\n",
    "from torchnlp.word_to_vector import GloVe\n",
    "pretrained_embedding = GloVe(name='6B', dim=100)\n",
    "embedding_weights = torch.Tensor(encoder.vocab_size, pretrained_embedding.dim)\n",
    "for i, token in enumerate(encoder.vocab):\n",
    "    embedding_weights[i] = pretrained_embedding[token]\n",
    "\n",
    "\n",
    "import matplotlib.pyplot as plt\n",
    "import numpy as np\n",
    "\n",
    "# the next two lines are needed on my Intel-based MacBook Air to get the code to run; you likely don't need these two lines...\n",
    "# (in fact I used to not need these two lines)\n",
    "import os\n",
    "\n",
    "import torch\n",
    "import torch.nn as nn\n",
    "from torchsummaryX import summary\n",
    "\n",
    "from UDA_pytorch_utils import UDA_LSTMforSequential, UDA_pytorch_classifier_fit, \\\n",
    "    UDA_plot_train_val_accuracy_vs_epoch, UDA_pytorch_classifier_predict, \\\n",
    "    UDA_compute_accuracy\n",
    "simple_lstm_model = nn.Sequential(nn.Embedding.from_pretrained(embedding_weights),\n",
    "                                  UDA_LSTMforSequential(100, 64),\n",
    "                                  nn.Linear(64, 2))\n",
    "\n",
    "\n",
    "num_epochs = 10  # during optimization, how many times we look at training data\n",
    "batch_size = 100  # during optimization, how many training data to use at each step\n",
    "learning_rate = 0.001  # during optimization, how much we nudge our solution at each step\n",
    "\n",
    "train_accuracies, val_accuracies = \\\n",
    "    UDA_pytorch_classifier_fit(simple_lstm_model,\n",
    "                               torch.optim.Adam(simple_lstm_model.parameters(),\n",
    "                                                lr=learning_rate),\n",
    "                               nn.CrossEntropyLoss(),  # includes softmax\n",
    "                               proper_train_dataset_encoded, val_dataset_encoded,\n",
    "                               num_epochs, batch_size,\n",
    "                               sequence=True)\n",
    "\n",
    "UDA_plot_train_val_accuracy_vs_epoch(train_accuracies, val_accuracies)"
   ]
  },
  {
   "cell_type": "code",
   "execution_count": 95,
   "metadata": {},
   "outputs": [
    {
     "name": "stdout",
     "output_type": "stream",
     "text": [
      "Test accuracy: 0.42369477911646586\n"
     ]
    }
   ],
   "source": [
    "test=[]\n",
    "with open('test.csv',encoding='iso8859') as f:\n",
    "    for line in f:\n",
    "        test.append(line.strip())\n",
    "test2 = [ [line.split(',')[0],line.split(',')[-1]] for line in test]\n",
    "\n",
    "test_encoded = [encoder.encode(data[1]) for data in test2]\n",
    "test_labels = torch.tensor([int(data[0]) for data in test2])\n",
    "predicted_test_labels = UDA_pytorch_classifier_predict(simple_lstm_model,\n",
    "                                                       test_encoded,\n",
    "                                                       sequence=True)\n",
    "print('Test accuracy:', UDA_compute_accuracy(predicted_test_labels, test_labels))"
   ]
  },
  {
   "cell_type": "markdown",
   "metadata": {
    "id": "9gbmKt4XHbMn"
   },
   "source": [
    "**(c) [10 points]** How well does an LSTM compare with using a classical classifier? To investigate this question, let's try training a random forest for sentiment analysis. Your code from part **(b)** should involve coming up with encoded representations of text, i.e., representing a tweet using a sequence of word indices. Use this to come up with a term frequency representation for each tweet. Feel free to remove stop words and/or apply TF-IDF weighting, and then feed the resulting feature vector representations for tweets to a random forest classifier. You can use cross-validation to select hyperparameters. Try to make the random forest classifier perform as well as possible (it is good practice in real-world applications to try to make baselines as good as possible rather than intentionally using a baseline with lousy hyperparameter choices; in particular, it is *bad* practice to tune hyperparameters carefully only on a method you're proposing while not tuning hyperparameters on baselines!). What test set accuracy are you able to achieve with the random forest?"
   ]
  },
  {
   "cell_type": "code",
   "execution_count": 14,
   "metadata": {
    "id": "iswWap69HbMn"
   },
   "outputs": [
    {
     "data": {
      "text/plain": [
       "tensor([0, 1, 0,  ..., 1, 1, 1])"
      ]
     },
     "execution_count": 14,
     "metadata": {},
     "output_type": "execute_result"
    }
   ],
   "source": [
    "# your code here\n",
    "stop =[]\n",
    "with open('stopwords.txt') as f:\n",
    "    for line in f:\n",
    "        stop.append(line.strip())\n",
    "        \n",
    "pre_train_c=[ j for i in train4 for j in str(i[1]).split() if j not in stop]\n",
    "pre_train_c=[]\n",
    "for i in train4:\n",
    "    tmp =[]\n",
    "    for j in str(i[1]).split():\n",
    "        if j not in stop:\n",
    "            tmp.append(j)\n",
    "    pre_train_c.append(' '.join(tmp))\n",
    "train_c =[encoder.encode(str(i)) for i in pre_train_c]\n",
    "train_label_c=torch.tensor([int(data[0]) for data in train4])\n",
    "train_label_c"
   ]
  },
  {
   "cell_type": "code",
   "execution_count": 66,
   "metadata": {},
   "outputs": [],
   "source": [
    "train_c_all =np.ones((len(train_c),encoder.vocab_size))\n",
    "for iindex,i in enumerate(train_c):\n",
    "    for j in i:\n",
    "        train_c_all[iindex,j.numpy()]+=1\n",
    "train_c_all=[ i/i.sum() for i in train_c_all]"
   ]
  },
  {
   "cell_type": "code",
   "execution_count": 67,
   "metadata": {},
   "outputs": [],
   "source": [
    "pre_test_c=[]\n",
    "for i in test2:\n",
    "    tmp =[]\n",
    "    for j in str(i[1]).split():\n",
    "        if j not in stop:\n",
    "            tmp.append(j)\n",
    "    pre_test_c.append(' '.join(tmp))\n",
    "test_c =[encoder.encode(str(i)) for i in pre_test_c]\n",
    "test_labels = torch.tensor([int(data[0]) for data in test2])\n",
    "# maxlen_test=max([len(i) for i in test_c])\n",
    "# test_c_57=[]\n",
    "# for i in test_c:\n",
    "#     tmp=[]\n",
    "#     for j in i:\n",
    "#         tmp.append(j.numpy())\n",
    "#     while(len(tmp)< maxlen):\n",
    "#         tmp.append(0)\n",
    "#   # print(tmp)\n",
    "#     test_c_57.append(np.array(tmp))\n",
    "# test_c_57=np.array(test_c_57)\n",
    "# test_c_57.shape\n",
    "test_c_all =np.ones((len(test_c),encoder.vocab_size))\n",
    "for iindex,i in enumerate(test_c):\n",
    "    for j in i:\n",
    "        test_c_all[iindex,j.numpy()]+=1\n",
    "test_c_all=[ i/i.sum() for i in test_c_all]"
   ]
  },
  {
   "cell_type": "code",
   "execution_count": 69,
   "metadata": {},
   "outputs": [
    {
     "name": "stdout",
     "output_type": "stream",
     "text": [
      "0.6697456961689506\n",
      "0.563248328907118\n",
      "0.36354521876079365\n",
      "0.3258286582479658\n",
      "0.6494814304164449\n",
      "0.6661746427167492\n",
      "0.6394423427992455\n",
      "0.4918076739439291\n",
      "0.6415720513136415\n",
      "0.6542389154003433\n",
      "0.6366917298752298\n",
      "0.6211415487611027\n",
      "Best hyperparameter setting for RF: (25, 1)\n"
     ]
    }
   ],
   "source": [
    "from sklearn.model_selection import KFold\n",
    "from sklearn.ensemble import RandomForestClassifier\n",
    "kf = KFold(n_splits=2,shuffle=True,random_state=0)\n",
    "train_c_all=np.array(train_c_all)\n",
    "num_features = train_c_all.shape[1]\n",
    "hyperparameter_settings = [(max_features, min_samples_leaf)\n",
    "                           for max_features in [int(np.ceil(np.sqrt(num_features) / 4)),\n",
    "                                                int(np.ceil(np.sqrt(num_features))),\n",
    "                                                int(np.ceil(np.sqrt(num_features) * 4))]\n",
    "                           for min_samples_leaf in [1, 2, 4, 8]]\n",
    "\n",
    "# fill this with hyperparameter settings that you want to try\n",
    "import numpy as np\n",
    "from sklearn.metrics import f1_score\n",
    "train=train_c_all\n",
    "label=train_label_c\n",
    "best_hyperparam_setting = None\n",
    "best_cross_val_score = -np.inf  # assumes that a higher score is better\n",
    "k_fold = KFold(n_splits=2,shuffle=True,random_state=0)\n",
    "# label=np.array(label_list)\n",
    "# train=countvec_res.toarray()\n",
    "\n",
    "for hyperparam_setting in hyperparameter_settings:\n",
    "    max_features, min_samples_leaf = hyperparam_setting\n",
    "    fold_scores = []\n",
    "    # your code to train and score the training data here\n",
    "    for train_index,val_index in k_fold.split(train):\n",
    "        # print(train_index)\n",
    "        # print(train)\n",
    "        # print(train.[[0,1]])\n",
    "        proper_train_features = train[train_index]\n",
    "        proper_train_labels = label[train_index]\n",
    "        val_features = train[val_index]\n",
    "        val_labels = label[val_index]\n",
    "        \n",
    "        classifier = RandomForestClassifier(max_features=max_features,\n",
    "                                            min_samples_leaf=min_samples_leaf,\n",
    "                                            random_state=0)\n",
    "        # print(np.array(proper_train_features))\n",
    "        # print(proper_train_labels.numpy())\n",
    "        classifier.fit(proper_train_features, proper_train_labels.numpy())\n",
    "        predicted_val_labels = classifier.predict(val_features)\n",
    "        \n",
    "        fold_scores.append(f1_score(val_labels,predicted_val_labels,average='weighted'))\n",
    "    \n",
    "    cross_val_score = np.mean(fold_scores)\n",
    "    print(cross_val_score)\n",
    "    if cross_val_score > best_cross_val_score:  # assumes that a higher score is better\n",
    "        best_cross_val_score = cross_val_score\n",
    "        best_hyperparam_setting = hyperparam_setting\n",
    "\n",
    "print('Best hyperparameter setting for RF:', best_hyperparam_setting)"
   ]
  },
  {
   "cell_type": "code",
   "execution_count": 70,
   "metadata": {},
   "outputs": [
    {
     "data": {
      "text/plain": [
       "0.6265060240963856"
      ]
     },
     "execution_count": 70,
     "metadata": {},
     "output_type": "execute_result"
    }
   ],
   "source": [
    "max_features=25\n",
    "min_samples_leaf=1\n",
    "rfclassifier = RandomForestClassifier(max_features=max_features,min_samples_leaf=min_samples_leaf,random_state=0)\n",
    "rfclassifier.fit(train_c_all, train_label_c)\n",
    "rfpredicted_val_labels = classifier.predict(test_c_all)\n",
    "UDA_compute_accuracy(rfpredicted_val_labels,test_labels.numpy())"
   ]
  }
 ],
 "metadata": {
  "accelerator": "GPU",
  "colab": {
   "collapsed_sections": [],
   "name": "HW3.ipynb",
   "provenance": [],
   "toc_visible": true
  },
  "kernelspec": {
   "display_name": "Python 3",
   "language": "python",
   "name": "python3"
  },
  "language_info": {
   "codemirror_mode": {
    "name": "ipython",
    "version": 3
   },
   "file_extension": ".py",
   "mimetype": "text/x-python",
   "name": "python",
   "nbconvert_exporter": "python",
   "pygments_lexer": "ipython3",
   "version": "3.8.3"
  }
 },
 "nbformat": 4,
 "nbformat_minor": 1
}
